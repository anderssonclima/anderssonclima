{
 "cells": [
  {
   "cell_type": "code",
   "execution_count": 1,
   "id": "0dc90df8",
   "metadata": {},
   "outputs": [
    {
     "ename": "ModuleNotFoundError",
     "evalue": "No module named 'GPUtil'",
     "output_type": "error",
     "traceback": [
      "\u001b[31m---------------------------------------------------------------------------\u001b[39m",
      "\u001b[31mModuleNotFoundError\u001b[39m                       Traceback (most recent call last)",
      "\u001b[36mCell\u001b[39m\u001b[36m \u001b[39m\u001b[32mIn[1]\u001b[39m\u001b[32m, line 2\u001b[39m\n\u001b[32m      1\u001b[39m \u001b[38;5;28;01mimport\u001b[39;00m\u001b[38;5;250m \u001b[39m\u001b[34;01mmultiprocessing\u001b[39;00m\u001b[38;5;250m \u001b[39m\u001b[38;5;28;01mas\u001b[39;00m\u001b[38;5;250m \u001b[39m\u001b[34;01mmp\u001b[39;00m\n\u001b[32m----> \u001b[39m\u001b[32m2\u001b[39m \u001b[38;5;28;01mimport\u001b[39;00m\u001b[38;5;250m \u001b[39m\u001b[34;01mGPUtil\u001b[39;00m\n\u001b[32m      3\u001b[39m \u001b[38;5;28;01mimport\u001b[39;00m\u001b[38;5;250m \u001b[39m\u001b[34;01mplatform\u001b[39;00m\n\u001b[32m      4\u001b[39m \u001b[38;5;28;01mimport\u001b[39;00m\u001b[38;5;250m \u001b[39m\u001b[34;01mpsutil\u001b[39;00m\n",
      "\u001b[31mModuleNotFoundError\u001b[39m: No module named 'GPUtil'"
     ]
    }
   ],
   "source": [
    "import multiprocessing as mp\n",
    "import GPUtil\n",
    "import platform\n",
    "import psutil\n",
    "import cupy as cp\n",
    "\n",
    "# ---------------------------\n",
    "# SYSTEM INFO\n",
    "# ---------------------------\n",
    "def show_system_info():\n",
    "    print(\"\\n=== SYSTEM INFO ===\")\n",
    "    print(f\"CPU cores: {mp.cpu_count()}\")\n",
    "    print(f\"Total RAM: {psutil.virtual_memory().total / (1024**3):.2f} GB\")\n",
    "    print(f\"Available RAM: {psutil.virtual_memory().available / (1024**3):.2f} GB\")\n",
    "    print(f\"CPU usage: {psutil.cpu_percent():.1f}%\")\n",
    "    print(f\"CPU model: {platform.processor()}\")\n",
    "    print(f\"OS: {platform.system()} {platform.release()}\")\n",
    "\n",
    "    # GPU detection\n",
    "    gpu_info_str = \"None\"\n",
    "    # Try NVIDIA CUDA\n",
    "    try:\n",
    "        \n",
    "        cp.cuda.runtime.getDevice()\n",
    "        gpu_name = cp.cuda.runtime.getDeviceProperties(0)['name'].decode()\n",
    "        gpu_info_str = f\"NVIDIA GPU: {gpu_name}\"\n",
    "    except (ImportError, cp.cuda.runtime.CUDARuntimeError):\n",
    "        # Fallback to GPUtil\n",
    "        try:\n",
    "            \n",
    "            gpus = GPUtil.getGPUs()\n",
    "            if gpus:\n",
    "                gpu_info_str = f\"{gpus[0].name} (non-CUDA GPU)\"\n",
    "            else:\n",
    "                gpu_info_str = \"No GPU detected\"\n",
    "        except ImportError:\n",
    "            gpu_info_str = \"GPU detection skipped (GPUtil not installed)\"\n",
    "\n",
    "    print(f\"GPU: {gpu_info_str}\")\n",
    "\n",
    "print(\"=== 🔧 SYSTEM PERFORMANCE BENCHMARK ===\")\n",
    "show_system_info()"
   ]
  },
  {
   "cell_type": "code",
   "execution_count": 2,
   "id": "262f3d90",
   "metadata": {},
   "outputs": [
    {
     "name": "stdout",
     "output_type": "stream",
     "text": [
      "Channels:\n",
      " - conda-forge\n",
      "Platform: linux-64\n",
      "Collecting package metadata (repodata.json): done\n",
      "Solving environment: done\n",
      "\n",
      "## Package Plan ##\n",
      "\n",
      "  environment location: /opt/conda/envs/etl\n",
      "\n",
      "  added / updated specs:\n",
      "    - gputil\n",
      "\n",
      "\n",
      "The following NEW packages will be INSTALLED:\n",
      "\n",
      "  gputil             conda-forge/noarch::gputil-1.4.0-pyhd8ed1ab_1 \n",
      "\n",
      "\n",
      "\n",
      "Downloading and Extracting Packages:\n",
      "\n",
      "Preparing transaction: done\n",
      "Verifying transaction: done\n",
      "Executing transaction: done\n"
     ]
    }
   ],
   "source": [
    "! conda install -y -c conda-forge GPUtil"
   ]
  },
  {
   "cell_type": "code",
   "execution_count": null,
   "id": "719cfb21",
   "metadata": {},
   "outputs": [
    {
     "name": "stdout",
     "output_type": "stream",
     "text": [
      "✅ Average CPU task time: 13.8901 seconds per run\n",
      "📊 Average CPU usage: 17.64%\n"
     ]
    }
   ],
   "source": [
    "import time\n",
    "import psutil\n",
    "# import timeit\n",
    "\n",
    "def cpu_intensive_task():\n",
    "    # Example: Perform a large number of calculations\n",
    "    result = 0\n",
    "    for i in range(10**8 * 3):\n",
    "        result += i * i\n",
    "\n",
    "def measure_cpu_usage_during(func, iterations):\n",
    "    cpu_readings = []\n",
    "    start_time = time.time()\n",
    "\n",
    "    # Start a background measurement loop\n",
    "    for _ in range(iterations):\n",
    "        # Start measuring before each iteration\n",
    "        cpu_before = psutil.cpu_percent(interval=None)\n",
    "\n",
    "        # Run the function\n",
    "        func()\n",
    "\n",
    "        # Measure after this iteration\n",
    "        cpu_after = psutil.cpu_percent(interval=None)\n",
    "        cpu_readings.append(cpu_after)\n",
    "\n",
    "    end_time = time.time()\n",
    "    duration = end_time - start_time\n",
    "\n",
    "    avg_cpu = sum(cpu_readings) / len(cpu_readings)\n",
    "    return duration / iterations, avg_cpu\n",
    "\n",
    "if __name__ == \"__main__\":\n",
    "    iterations = 10\n",
    "\n",
    "    avg_time, avg_cpu = measure_cpu_usage_during(cpu_intensive_task, iterations)\n",
    "    print(f\"✅ Average CPU task time: {avg_time:.4f} seconds per run\")\n",
    "    print(f\"📊 Average CPU usage: {avg_cpu:.2f}%\")"
   ]
  },
  {
   "cell_type": "code",
   "execution_count": null,
   "id": "a6ba2813",
   "metadata": {},
   "outputs": [
    {
     "name": "stdout",
     "output_type": "stream",
     "text": [
      "Stress testing 14 CPU cores...\n"
     ]
    }
   ],
   "source": [
    "from multiprocessing import Pool, cpu_count\n",
    "import time\n",
    "\n",
    "def stress_cpu(iterations):\n",
    "    for _ in range(iterations):\n",
    "        _ = 1 + 1  # Simple operation to keep CPU busy\n",
    "\n",
    "if __name__ == '__main__':\n",
    "    num_processes = cpu_count()\n",
    "    print(f\"Stress testing {num_processes} CPU cores...\")\n",
    "    with Pool(num_processes) as pool:\n",
    "        pool.map(stress_cpu, [10**7] * num_processes)\n",
    "    print(\"CPU stress test complete.\")"
   ]
  },
  {
   "cell_type": "code",
   "execution_count": 15,
   "id": "5c218809",
   "metadata": {},
   "outputs": [
    {
     "name": "stdout",
     "output_type": "stream",
     "text": [
      "Initial RAM usage: 44.4%\n",
      "RAM usage after allocation: 78.4%\n",
      "RAM usage after deallocation: 42.0%\n"
     ]
    }
   ],
   "source": [
    "import psutil\n",
    "import time\n",
    "\n",
    "print(f\"Initial RAM usage: {psutil.virtual_memory().percent}%\")\n",
    "\n",
    "# Allocate a large list to consume memory\n",
    "large_list = [i for i in range(10**8*3)]\n",
    "time.sleep(1) # Allow system to update memory stats\n",
    "\n",
    "print(f\"RAM usage after allocation: {psutil.virtual_memory().percent}%\")\n",
    "del large_list # Release memory\n",
    "time.sleep(1)\n",
    "\n",
    "print(f\"RAM usage after deallocation: {psutil.virtual_memory().percent}%\")"
   ]
  },
  {
   "cell_type": "code",
   "execution_count": 16,
   "id": "c6cf40e7",
   "metadata": {},
   "outputs": [
    {
     "name": "stdout",
     "output_type": "stream",
     "text": [
      "cudaErrorInsufficientDriver: CUDA driver version is insufficient for CUDA runtime version\n"
     ]
    }
   ],
   "source": [
    "# Example using CuPy for GPU operations\n",
    "import cupy as cp\n",
    "import time\n",
    "\n",
    "try:\n",
    "    # Create a large array on the GPU\n",
    "    gpu_array = cp.random.rand(10000, 10000)\n",
    "\n",
    "    start_time = time.time()\n",
    "    # Perform a matrix multiplication on the GPU\n",
    "    result = cp.dot(gpu_array, gpu_array)\n",
    "    end_time = time.time()\n",
    "\n",
    "    print(f\"GPU matrix multiplication time: {end_time - start_time:.4f} seconds\")\n",
    "except Exception as e:\n",
    "    print(f\"{e}\")\n",
    "except cp.cuda.runtime.CudaAPIError:\n",
    "    print(\"CuPy or CUDA not detected. Ensure a compatible GPU and drivers are installed.\")"
   ]
  }
 ],
 "metadata": {
  "kernelspec": {
   "display_name": "etl",
   "language": "python",
   "name": "python3"
  },
  "language_info": {
   "codemirror_mode": {
    "name": "ipython",
    "version": 3
   },
   "file_extension": ".py",
   "mimetype": "text/x-python",
   "name": "python",
   "nbconvert_exporter": "python",
   "pygments_lexer": "ipython3",
   "version": "3.12.1"
  }
 },
 "nbformat": 4,
 "nbformat_minor": 5
}

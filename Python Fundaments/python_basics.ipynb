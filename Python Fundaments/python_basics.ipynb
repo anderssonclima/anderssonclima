{
 "cells": [
  {
   "cell_type": "markdown",
   "id": "2aef1b61",
   "metadata": {},
   "source": [
    "# Fundaments for Python 3"
   ]
  },
  {
   "cell_type": "markdown",
   "id": "a77ca82f",
   "metadata": {},
   "source": [
    "#### Table of Content:\n",
    "- PEP 8 Recommendations\n",
    "- Basic Data Types\n",
    "    * Strings\n",
    "    * Ints, floats and other types of numbers\n",
    "    * Booleans\n",
    "    * Bytes\n",
    "- Data Structures\n",
    "    * Lists\n",
    "    * Sets\n",
    "    * Tuples\n",
    "    * Dictionary\n",
    "    * List Comprehension\n",
    "    * Dictionary Comprehension\n",
    "- Control Flow\n",
    "    * If/Else statements\n",
    "    * For loops\n",
    "    * While loops\n",
    "- Functions\n",
    "    * Anatomy\n",
    "    * Variables and scope\n",
    "    * Functions as variables\n",
    "- Classes and Objects\n",
    "    * Anatomy\n",
    "    * Static and instance methods\n",
    "    * Inheritance\n",
    "- Errors\n",
    "    * Errors and exceptions\n",
    "    * Handling exceptions\n",
    "    * Custom exceptions\n",
    "- Threads and Processes\n",
    "    * Intro\n",
    "    * Multithreading\n",
    "    * Multiprocessing\n",
    "- Working with Files\n",
    "    * Opening, reading and writing\n",
    "    * CSV\n",
    "    * JSON\n",
    "    * Excel\n",
    "- Packaging Python\n",
    "    * Command-line arguments\n",
    "    * Creating modules and packages"
   ]
  },
  {
   "cell_type": "markdown",
   "id": "3b4fa765",
   "metadata": {},
   "source": [
    "## PEP 8 Recommendations"
   ]
  },
  {
   "cell_type": "code",
   "execution_count": null,
   "id": "c0d3dc91",
   "metadata": {},
   "outputs": [
    {
     "name": "stdout",
     "output_type": "stream",
     "text": [
      "Variable is None\n",
      "a is not equal to b\n"
     ]
    }
   ],
   "source": [
    "## Some PEP 8 Recomendations with Examples: \n",
    "# Variable names should be lowercase, with words separated by underscores as necessary to improve readability (snake_case).\n",
    "snake_case = \"example\"\n",
    "\n",
    "# Function names should be lowercase, with words separated by underscores as necessary to improve readability (snake_case).\n",
    "def example_function():\n",
    "    pass\n",
    "\n",
    "# Class names should normally use the CapWords convention (PascalCase / CamelCase).\n",
    "class ExampleClass:\n",
    "    pass\n",
    "\n",
    "# Constants should be written in all capital letters with underscores separating words (UPPER_SNAKE_CASE).\n",
    "PI = 3.14159\n",
    "\n",
    "# Avoid using names that are too general or too wordy.\n",
    "value = 42  # Too general\n",
    "number_of_items_in_list = 10  # Too wordy\n",
    "\n",
    "# Use 'is' or 'is not' when comparing to None.\n",
    "var = None\n",
    "if var is None:\n",
    "    print(\"Variable is None\")\n",
    "\n",
    "# Use '==' or '!=' when comparing values.\n",
    "a = 5\n",
    "b = 10\n",
    "if a == b:\n",
    "    print(\"a is equal to b\")\n",
    "if a != b:\n",
    "    print(\"a is not equal to b\")\n",
    "\n",
    "# Avoid using the characters l (lowercase letter el), O (uppercase letter oh), or I (uppercase letter eye) as single character variable names.\n",
    "\n",
    "# Use descriptive names for variables, functions, and classes to enhance code readability.\n",
    "\n",
    "# Indent code blocks with 4 spaces (not tabs).\n",
    "def indented_function():\n",
    "    if True:\n",
    "        print(\"This line is indented with 4 spaces.\")\n",
    "\n",
    "# Limit all lines to a maximum of 79 characters.\n",
    "\n",
    "# Use blank lines to separate top-level function and class definitions and to separate method definitions inside classes.\n",
    "\n",
    "# When possible, put comments on a line of their own.\n",
    "\n",
    "# Use inline comments sparingly. An inline comment is a comment on the same line as a statement.\n",
    "\n",
    "# Use docstrings to describe all public classes and methods.\n",
    "def documented_function():\n",
    "    \"\"\"This is a docstring for the function.\"\"\"\n",
    "    pass\n",
    "# Use one leading underscore only for non-public methods and instance variables.\n",
    "_single_leading_underscore = \"non-public\"\n",
    "\n",
    "# Use two leading underscores to invoke Python's name mangling rules.\n",
    "__double_leading_underscore = \"name mangling\"\n",
    "\n",
    "# Use a single trailing underscore to avoid conflicts with Python keywords.\n",
    "trailing_underscore_ = \"avoid keyword conflict\""
   ]
  },
  {
   "cell_type": "markdown",
   "id": "c22a2bc7",
   "metadata": {},
   "source": [
    "## Basic Data Types"
   ]
  },
  {
   "cell_type": "markdown",
   "id": "5b1ab3e5",
   "metadata": {},
   "source": [
    "#### Strings"
   ]
  },
  {
   "cell_type": "code",
   "execution_count": null,
   "id": "51111d59",
   "metadata": {},
   "outputs": [],
   "source": [
    "# create a string variable\n",
    "my_string = \"Hello, World!\"\n",
    "print(my_string)\n",
    "# slice the string\n",
    "print(my_string[:5])  # Output: Hello\n",
    "# convert to uppercase\n",
    "print(my_string.upper())  # Output: HELLO, WORLD!\n",
    "# convert to lowercase\n",
    "print(my_string.lower())  # Output: hello, world!\n",
    "# replace a substring\n",
    "print(my_string.replace(\"World\", \"Python\"))  # Output: Hello, Python!\n",
    "# find a substring\n",
    "print(my_string.find(\"World\"))  # Output: 7\n",
    "# add another sentence to the string\n",
    "my_string += \" Welcome to Python programming.\"\n",
    "print(my_string)\n",
    "# repete the string for 3 times\n",
    "print(my_string * 3)\n",
    "# get the length of the string\n",
    "print(len(my_string))  # Output: length of the string\n",
    "# check if a substring is in the string\n",
    "print(\"Python\" in my_string)  # Output: True\n",
    "# split the string into a list of words\n",
    "print(my_string.split())  # Output: ['Hello,', 'World!', 'Welcome', 'to', 'Python', 'programming.']\n",
    "# strip whitespace from the ends of the string\n",
    "whitespace_string = \"   Hello, World!   \"\n",
    "print(whitespace_string.strip())  # Output: \"Hello, World!\"\n",
    "# format the string with variables\n",
    "name = \"Alice\"\n",
    "age = 30\n",
    "formatted_string = f\"My name is {name} and I am {age} years old.\"\n",
    "print(formatted_string)  # Output: My name is Alice and I am 30 years old."
   ]
  },
  {
   "cell_type": "markdown",
   "id": "3219be11",
   "metadata": {},
   "source": [
    "#### Ints, floats and other types of numbers"
   ]
  },
  {
   "cell_type": "code",
   "execution_count": 43,
   "id": "f904d1a9",
   "metadata": {},
   "outputs": [
    {
     "name": "stdout",
     "output_type": "stream",
     "text": [
      "42\n",
      "3.14\n",
      "(1+2j)\n",
      "3.1\n",
      "3\n",
      "42.0\n",
      "(42+0j)\n",
      "(3.14+0j)\n",
      "<class 'int'>\n",
      "<class 'float'>\n",
      "<class 'complex'>\n",
      "0b101010\n",
      "0o52\n",
      "0x2a\n",
      "42\n",
      "42\n",
      "42\n",
      "42\n",
      "3.14\n",
      "1.0\n",
      "2.0\n",
      "(1-2j)\n",
      "False\n",
      "True\n",
      "0.3333\n",
      "1/2\n"
     ]
    }
   ],
   "source": [
    "# integer variable\n",
    "my_int = 42\n",
    "print(my_int)\n",
    "# float variable\n",
    "my_float = 3.14\n",
    "print(my_float)\n",
    "# complex variable\n",
    "my_complex = 1 + 2j\n",
    "print(my_complex)\n",
    "# round float to 1 decimal place\n",
    "print(round(my_float, 1))  # Output: 3.1\n",
    "# convert float to int\n",
    "print(int(my_float))  # Output: 3\n",
    "# convert int to float\n",
    "print(float(my_int))  # Output: 42.0\n",
    "# convert int to complex\n",
    "print(complex(my_int))  # Output: (42+0j)\n",
    "# convert float to complex\n",
    "print(complex(my_float))  # Output: (3.14+0j)\n",
    "# get the type of a variable\n",
    "print(type(my_int))  # Output: <class 'int'>\n",
    "print(type(my_float))  # Output: <class 'float'>\n",
    "print(type(my_complex))  # Output: <class 'complex'>\n",
    "# get number system representations\n",
    "print(bin(my_int))  # Output: binary representation\n",
    "print(oct(my_int))  # Output: octal representation\n",
    "print(hex(my_int))  # Output: hexadecimal representation\n",
    "# convert from number system representations back to int\n",
    "print(int('0b101010', 2))  # Output: 42\n",
    "print(int('0o52', 8))  # Output: 42\n",
    "print(int('0x2A', 16))  # Output: 42\n",
    "# get the absolute value of an integer\n",
    "print(abs(-my_int))  # Output: 42\n",
    "# get the absolute value of a float\n",
    "print(abs(-my_float))  # Output: 3.14\n",
    "# get the real part of a complex number\n",
    "print(my_complex.real)  # Output: 1.0\n",
    "# get the imaginary part of a complex number\n",
    "print(my_complex.imag)  # Output: 2.0\n",
    "# get the conjugate of a complex number\n",
    "print(my_complex.conjugate())  # Output: (1-2j)\n",
    "# round issue with floats\n",
    "print(0.1 + 0.2 == 0.3)  # Output: False\n",
    "# use the decimal module for precise decimal arithmetic\n",
    "from decimal import Decimal\n",
    "a = Decimal('0.1')\n",
    "b = Decimal('0.2')\n",
    "c = Decimal('0.3')\n",
    "print(a + b == c)  # Output: True\n",
    "# adjust the precision of Decimal calculations\n",
    "from decimal import getcontext\n",
    "getcontext().prec = 4  # set precision to 4 decimal places\n",
    "d = Decimal('1') / Decimal('3')\n",
    "print(d)  # Output: 0.3333\n",
    "# use the fractions module for rational number arithmetic\n",
    "from fractions import Fraction\n",
    "frac1 = Fraction(1, 3)\n",
    "frac2 = Fraction(1, 6)\n",
    "print(frac1 + frac2)  # Output: 1/2"
   ]
  },
  {
   "cell_type": "markdown",
   "id": "7eeda768",
   "metadata": {},
   "source": [
    "#### Booleans"
   ]
  },
  {
   "cell_type": "code",
   "execution_count": null,
   "id": "970d77af",
   "metadata": {},
   "outputs": [],
   "source": [
    "# boolean variable\n",
    "my_bool = True\n",
    "print(my_bool)\n",
    "# boolean variable\n",
    "my_bool = False\n",
    "print(my_bool)\n",
    "# boolean operations\n",
    "print(True and False)  # Output: False\n",
    "print(True or False)   # Output: True\n",
    "print(not True)        # Output: False\n",
    "# boolean comparisons\n",
    "print(5 > 3)          # Output: True\n",
    "print(5 < 3)          # Output: False\n",
    "print(5 == 5)         # Output: True\n",
    "print(5 != 3)         # Output: True\n",
    "print(5 >= 5)         # Output: True\n",
    "print(5 <= 3)         # Output: False\n",
    "# boolean from other types\n",
    "print(bool(1))        # Output: True\n",
    "print(bool(0))        # Output: False\n",
    "print(bool(\"Hello\"))  # Output: True\n",
    "print(bool(\"\"))       # Output: False\n",
    "print(bool([]))       # Output: False\n",
    "print(bool([1, 2]))  # Output: True\n",
    "print(bool(None))     # Output: False"
   ]
  },
  {
   "cell_type": "markdown",
   "id": "09dcbec7",
   "metadata": {},
   "source": [
    "#### Bytes"
   ]
  },
  {
   "cell_type": "code",
   "execution_count": 45,
   "id": "e050a336",
   "metadata": {},
   "outputs": [
    {
     "name": "stdout",
     "output_type": "stream",
     "text": [
      "b'Hello, World!'\n",
      "b'Hello, Bytes!'\n",
      "Hello, Bytes!\n"
     ]
    }
   ],
   "source": [
    "# bytes variable\n",
    "my_bytes = b\"Hello, World!\"\n",
    "print(my_bytes)\n",
    "# convert string to bytes\n",
    "string_data = \"Hello, Bytes!\"\n",
    "bytes_data = string_data.encode('utf-8')\n",
    "print(bytes_data)\n",
    "# convert bytes to string\n",
    "decoded_string = bytes_data.decode('utf-8')\n",
    "print(decoded_string)"
   ]
  },
  {
   "cell_type": "markdown",
   "id": "cd8977ea",
   "metadata": {},
   "source": [
    "## Data Structures"
   ]
  },
  {
   "cell_type": "markdown",
   "id": "5c05a161",
   "metadata": {},
   "source": [
    "#### Lists"
   ]
  },
  {
   "cell_type": "code",
   "execution_count": 28,
   "id": "66b1cd09",
   "metadata": {},
   "outputs": [
    {
     "name": "stdout",
     "output_type": "stream",
     "text": [
      "new list: [1, 2, 3, 4, 5]\n",
      "first three elements in the list: [1, 2, 3]\n",
      "last two elements in the list: [4, 5]\n",
      "list every second element in the list: [1, 3, 5]\n",
      "reverse the list: [5, 4, 3, 2, 1]\n",
      "sort the list: [1, 2, 3, 4, 5]\n",
      "sort the list in descending order: [5, 4, 3, 2, 1]\n",
      "find element of index 3: 2\n",
      "count element 2: 1\n",
      "append element 6 to my list: [1, 2, 3, 4, 5, 6]\n",
      "remove element 1 from my list: [2, 3, 4, 5, 6]\n",
      "6\n",
      "remove the last element from the list: [2, 3, 4, 5]\n",
      "clear the list: []\n",
      "convert a string to a list: ['Hello,', 'how', 'are', 'you?']\n"
     ]
    }
   ],
   "source": [
    "# define a list and display it\n",
    "my_list = [1,2,3,4,5]\n",
    "print(f\"new list: {my_list}\")\n",
    "# slice the list to get the first three elements\n",
    "print(f\"first three elements in the list: {my_list[:3]}\")\n",
    "# slice the list to get the last two elements\n",
    "print(f\"last two elements in the list: {my_list[-2:]}\")\n",
    "# slice the list to get every second element\n",
    "print(f\"list every second element in the list: {my_list[::2]}\")\n",
    "# reverse the list using slicing\n",
    "print(f\"reverse the list: {my_list[::-1]}\")\n",
    "# sort the list in ascending order\n",
    "print(f\"sort the list: {sorted(my_list)}\")\n",
    "# sort the list in descending order\n",
    "print(f\"sort the list in descending order: {sorted(my_list, reverse=True)}\")\n",
    "# find the index of the element '3' in the list\n",
    "print(f\"find element of index 3: {my_list.index(3)}\")\n",
    "# count how many times '2' appears in the list\n",
    "print(f\"count element 2: {my_list.count(2)}\")\n",
    "# append '6' to the end of the list\n",
    "my_list.append(6)\n",
    "print(f\"append element 6 to my list: {my_list}\")\n",
    "# remove '1' from the list\n",
    "my_list.remove(1)\n",
    "print(f\"remove element 1 from my list: {my_list}\")\n",
    "# pop the last element from the list\n",
    "print(my_list.pop())\n",
    "print(f\"remove the last element from the list: {my_list}\")\n",
    "# clear the list\n",
    "my_list.clear()\n",
    "print(f\"clear the list: {my_list}\")\n",
    "# convert a string to a list using split\n",
    "my_string = \"Hello, how are you?\"\n",
    "my_list = my_string.split()\n",
    "print(f\"convert a string to a list: {my_list}\")\n",
    "# --- IGNORE ---\n"
   ]
  },
  {
   "cell_type": "markdown",
   "id": "8e2de11e",
   "metadata": {},
   "source": [
    "#### Sets"
   ]
  },
  {
   "cell_type": "code",
   "execution_count": 29,
   "id": "543f65a2",
   "metadata": {},
   "outputs": [
    {
     "name": "stdout",
     "output_type": "stream",
     "text": [
      "new set: {1, 2, 3, 4, 5}\n",
      "add element 6 to my set: {1, 2, 3, 4, 5, 6}\n",
      "remove element 1 from my set: {2, 3, 4, 5, 6}\n",
      "check if element 3 is in my set: True\n",
      "length of my set: 5\n",
      "clear the set: set()\n",
      "convert list with duplicates to set: {1, 2, 3, 4, 5}\n"
     ]
    }
   ],
   "source": [
    "# do something similar to sets\n",
    "my_set = {1,2,3,4,5}\n",
    "print(f\"new set: {my_set}\")\n",
    "# add '6' to the set\n",
    "my_set.add(6)\n",
    "print(f\"add element 6 to my set: {my_set}\")\n",
    "# remove '1' from the set\n",
    "my_set.remove(1)\n",
    "print(f\"remove element 1 from my set: {my_set}\")\n",
    "# check if '3' is in the set\n",
    "print(f\"check if element 3 is in my set: {3 in my_set}\")\n",
    "# get the length of the set\n",
    "print(f\"length of my set: {len(my_set)}\")\n",
    "# clear the set\n",
    "my_set.clear()\n",
    "print(f\"clear the set: {my_set}\")\n",
    "# convert a list with duplicates to a set to remove duplicates\n",
    "my_list_with_duplicates = [1,2,2,3,4,4,5]\n",
    "my_set_from_list = set(my_list_with_duplicates)\n",
    "print(f\"convert list with duplicates to set: {my_set_from_list}\")\n"
   ]
  },
  {
   "cell_type": "markdown",
   "id": "700a771e",
   "metadata": {},
   "source": [
    "#### Tuples"
   ]
  },
  {
   "cell_type": "code",
   "execution_count": 30,
   "id": "f2feb492",
   "metadata": {},
   "outputs": [
    {
     "name": "stdout",
     "output_type": "stream",
     "text": [
      "new tuple: (1, 2, 3, 4, 5)\n",
      "first element in the tuple: 1\n",
      "last element in the tuple: 5\n",
      "first three elements in the tuple: (1, 2, 3)\n",
      "length of the tuple: 5\n",
      "count element 2 in the tuple: 1\n",
      "find element of index 3 in the tuple: 2\n",
      "convert a list to a tuple: (1, 2, 3, 4, 5)\n"
     ]
    }
   ],
   "source": [
    "# create a new tuple\n",
    "my_tuple = (1,2,3,4,5)\n",
    "print(f\"new tuple: {my_tuple}\")\n",
    "# access the first element of the tuple\n",
    "print(f\"first element in the tuple: {my_tuple[0]}\")\n",
    "# access the last element of the tuple\n",
    "print(f\"last element in the tuple: {my_tuple[-1]}\")\n",
    "# slice the tuple to get the first three elements\n",
    "print(f\"first three elements in the tuple: {my_tuple[:3]}\")\n",
    "# get the length of the tuple\n",
    "print(f\"length of the tuple: {len(my_tuple)}\")\n",
    "# count how many times '2' appears in the tuple\n",
    "print(f\"count element 2 in the tuple: {my_tuple.count(2)}\")\n",
    "# find the index of the element '3' in the tuple\n",
    "print(f\"find element of index 3 in the tuple: {my_tuple.index(3)}\")\n",
    "# convert a list to a tuple\n",
    "my_list = [1,2,3,4,5]\n",
    "my_tuple_from_list = tuple(my_list)\n",
    "print(f\"convert a list to a tuple: {my_tuple_from_list}\")\n",
    "# --- IGNORE ---"
   ]
  },
  {
   "cell_type": "markdown",
   "id": "bf4e593b",
   "metadata": {},
   "source": [
    "#### Dictionaries"
   ]
  },
  {
   "cell_type": "code",
   "execution_count": 31,
   "id": "0e55f33c",
   "metadata": {},
   "outputs": [
    {
     "name": "stdout",
     "output_type": "stream",
     "text": [
      "new dictionary: {'name': 'Alice', 'age': 30, 'city': 'New York'}\n",
      "access the value of key 'name': Alice\n",
      "add a new key-value pair to the dictionary: {'name': 'Alice', 'age': 30, 'city': 'New York', 'job': 'Engineer'}\n",
      "update the value of key 'age': {'name': 'Alice', 'age': 31, 'city': 'New York', 'job': 'Engineer'}\n",
      "remove the key-value pair with key 'city': {'name': 'Alice', 'age': 31, 'job': 'Engineer'}\n",
      "list of keys in the dictionary: ['name', 'age', 'job']\n",
      "list of values in the dictionary: ['Alice', 31, 'Engineer']\n",
      "list of key-value pairs in the dictionary: [('name', 'Alice'), ('age', 31), ('job', 'Engineer')]\n",
      "check if 'name' is a key in the dictionary: True\n",
      "length of the dictionary: 3\n",
      "clear the dictionary: {}\n",
      "convert a list of tuples to a dictionary: {'name': 'Alice', 'age': 30, 'city': 'New York'}\n",
      "convert a list of lists to a dictionary: {'name': 'Alice', 'age': 30, 'city': 'New York'}\n"
     ]
    }
   ],
   "source": [
    "# create a dictionary\n",
    "my_dict = {'name': 'Alice', 'age': 30, 'city': 'New York'}\n",
    "print(f\"new dictionary: {my_dict}\")\n",
    "# access the value associated with the key 'name'\n",
    "print(f\"access the value of key 'name': {my_dict['name']}\")\n",
    "# add a new key-value pair to the dictionary\n",
    "my_dict['job'] = 'Engineer'\n",
    "print(f\"add a new key-value pair to the dictionary: {my_dict}\")\n",
    "# update the value associated with the key 'age'\n",
    "my_dict['age'] = 31\n",
    "print(f\"update the value of key 'age': {my_dict}\")\n",
    "# remove the key-value pair with the key 'city'\n",
    "del my_dict['city']\n",
    "print(f\"remove the key-value pair with key 'city': {my_dict}\")\n",
    "# get the list of keys in the dictionary\n",
    "print(f\"list of keys in the dictionary: {list(my_dict.keys())}\")\n",
    "# get the list of values in the dictionary\n",
    "print(f\"list of values in the dictionary: {list(my_dict.values())}\")\n",
    "# get the list of key-value pairs in the dictionary\n",
    "print(f\"list of key-value pairs in the dictionary: {list(my_dict.items())}\")\n",
    "# check if 'name' is a key in the dictionary\n",
    "print(f\"check if 'name' is a key in the dictionary: {'name' in my_dict}\")\n",
    "# get the length of the dictionary\n",
    "print(f\"length of the dictionary: {len(my_dict)}\")\n",
    "# clear the dictionary\n",
    "my_dict.clear()\n",
    "print(f\"clear the dictionary: {my_dict}\")\n",
    "# slice the dictionary to get the first three elements  (not applicable to dictionaries)\n",
    "# convert a list of tuples to a dictionary\n",
    "my_list_of_tuples = [('name', 'Alice'), ('age', 30), ('city', 'New York')]\n",
    "my_dict_from_list = dict(my_list_of_tuples)\n",
    "print(f\"convert a list of tuples to a dictionary: {my_dict_from_list}\")\n",
    "# convert a list of lists to a dictionary\n",
    "my_list_of_lists = [['name', 'Alice'], ['age', 30], ['city', 'New York']]\n",
    "my_dict_from_list_of_lists = dict(my_list_of_lists)\n",
    "print(f\"convert a list of lists to a dictionary: {my_dict_from_list_of_lists}\")\n",
    "# --- IGNORE ---\n"
   ]
  },
  {
   "cell_type": "markdown",
   "id": "9d2cdb8a",
   "metadata": {},
   "source": [
    "## Control Flow"
   ]
  },
  {
   "cell_type": "markdown",
   "id": "93e649bc",
   "metadata": {},
   "source": [
    "#### If/Else statements"
   ]
  },
  {
   "cell_type": "code",
   "execution_count": 44,
   "id": "443df5fe",
   "metadata": {},
   "outputs": [
    {
     "name": "stdout",
     "output_type": "stream",
     "text": [
      "x is positive\n",
      "y is a positive odd number\n",
      "z is not positive\n",
      "a is True and b is False\n",
      "3 is in the list\n",
      "num is a positive multiple of both 3 and 5\n"
     ]
    }
   ],
   "source": [
    "# if/else statement example\n",
    "x = 10\n",
    "if x > 0:\n",
    "    print(\"x is positive\")\n",
    "elif x == 0:\n",
    "    print(\"x is zero\")\n",
    "else:\n",
    "    print(\"x is negative\")\n",
    "\n",
    "# nested if/else statement example\n",
    "y = 5\n",
    "if y > 0:      \n",
    "    if y % 2 == 0:\n",
    "        print(\"y is a positive even number\")\n",
    "    else:\n",
    "        print(\"y is a positive odd number\")\n",
    "else:\n",
    "    print(\"y is not positive\")\n",
    "\n",
    "# shorthand if/else statement (ternary operator) example\n",
    "z = -3\n",
    "result = \"z is positive\" if z > 0 else \"z is not positive\"\n",
    "print(result)\n",
    "# boolean logic with if/else statement example\n",
    "a = True\n",
    "b = False\n",
    "if a and not b:\n",
    "    print(\"a is True and b is False\")\n",
    "# check if a value is in a list with if/else statement example\n",
    "my_list = [1, 2, 3, 4, 5]\n",
    "value_to_check = 3\n",
    "if value_to_check in my_list:\n",
    "    print(f\"{value_to_check} is in the list\")\n",
    "else:\n",
    "    print(f\"{value_to_check} is not in the list\")\n",
    "# nested if/else statement with multiple conditions example\n",
    "num = 15\n",
    "if num > 0:\n",
    "    if num % 3 == 0 and num % 5 == 0:\n",
    "        print(\"num is a positive multiple of both 3 and 5\")\n",
    "    elif num % 3 == 0:\n",
    "        print(\"num is a positive multiple of 3\")\n",
    "    elif num % 5 == 0:\n",
    "        print(\"num is a positive multiple of 5\")\n",
    "    else:\n",
    "        print(\"num is a positive number but not a multiple of 3 or 5\")\n",
    "else:\n",
    "    print(\"num is not positive\")\n",
    "# --- IGNORE ---\n"
   ]
  },
  {
   "cell_type": "markdown",
   "id": "1506c655",
   "metadata": {},
   "source": [
    "#### For Loops"
   ]
  },
  {
   "cell_type": "code",
   "execution_count": null,
   "id": "4c3133a8",
   "metadata": {},
   "outputs": [
    {
     "name": "stdout",
     "output_type": "stream",
     "text": [
      "Iteration 0\n",
      "Iteration 1\n",
      "Iteration 2\n",
      "Iteration 3\n",
      "Iteration 4\n",
      "i: 0, j: 0\n",
      "i: 0, j: 1\n",
      "i: 1, j: 0\n",
      "i: 1, j: 1\n",
      "i: 2, j: 0\n",
      "i: 2, j: 1\n"
     ]
    }
   ],
   "source": [
    "# For loop example\n",
    "for i in range(5):\n",
    "    print(f\"Iteration {i}\")\n",
    "\n",
    "# nested for loop example\n",
    "for i in range(3):\n",
    "    for j in range(2):\n",
    "        print(f\"i: {i}, j: {j}\")\n",
    "\n",
    "# for loop with else clause example\n",
    "for i in range(3):\n",
    "    print(f\"i: {i}\")\n",
    "else:\n",
    "    print(\"Loop completed without break\")\n",
    "\n",
    "# break statement example\n",
    "for i in range(5):  \n",
    "    if i == 3:\n",
    "        break  # Exit the loop when i is 3\n",
    "    print(f\"i: {i}\")\n",
    "\n",
    "# continue statement example\n",
    "for i in range(5):  \n",
    "    if i == 3:\n",
    "        continue  # Skip the rest of the loop when i is 3\n",
    "    print(f\"i: {i}\")\n",
    "\n",
    "# nested for loop with break and continue example\n",
    "for i in range(3):\n",
    "    for j in range(3):\n",
    "        if j == 1:\n",
    "            continue\n",
    "        if i == 2:\n",
    "            break  # Exit the inner loop when i is 2\n",
    "        print(f\"i: {i}, j: {j}\")\n",
    "\n",
    "# pass statement example\n",
    "for i in range(3):\n",
    "    pass  # Placeholder for future code\n",
    "print(\"Loop completed with pass statement\")"
   ]
  },
  {
   "cell_type": "markdown",
   "id": "d92611cb",
   "metadata": {},
   "source": [
    "#### While loops"
   ]
  },
  {
   "cell_type": "code",
   "execution_count": null,
   "id": "a932af3f",
   "metadata": {},
   "outputs": [],
   "source": [
    "# while loop example\n",
    "count = 0\n",
    "while count < 5:\n",
    "    print(f\"Count: {count}\")\n",
    "    count += 1\n",
    "\n",
    "# nested while loop example\n",
    "i = 0\n",
    "while i < 3:    \n",
    "    j = 0\n",
    "    while j < 2:\n",
    "        print(f\"i: {i}, j: {j}\")\n",
    "        j += 1\n",
    "    i += 1\n",
    "\n",
    "# while loop with else clause example\n",
    "count = 0\n",
    "while count < 3:\n",
    "    print(f\"Count: {count}\")\n",
    "    count += 1\n",
    "else:\n",
    "    print(\"Loop completed without break\")\n",
    "\n",
    "# break statement example\n",
    "count = 0\n",
    "while count < 5:  \n",
    "    if count == 3:\n",
    "        break  # Exit the loop when count is 3\n",
    "    print(f\"Count: {count}\")\n",
    "    count += 1\n",
    "\n",
    "# continue statement example\n",
    "count = 0\n",
    "while count < 5:  \n",
    "    if count == 3:\n",
    "        count += 1\n",
    "        continue  # Skip the rest of the loop when count is 3\n",
    "    print(f\"Count: {count}\")\n",
    "    count += 1\n",
    "\n",
    "# pass statement example\n",
    "count = 0\n",
    "while count < 3:\n",
    "    pass  # Placeholder for future code\n",
    "    count += 1\n",
    "print(\"Loop completed with pass statement\")\n",
    "\n",
    "# avoid infinite loops in while loops with a proper exit condition\n",
    "max_iterations = 10\n",
    "iterations = 0\n",
    "while True:\n",
    "    print(\"This loop will exit after a certain number of iterations.\")\n",
    "    iterations += 1\n",
    "    if iterations >= max_iterations:\n",
    "        break  # Exit the loop after reaching the maximum number of iterations\n",
    "\n",
    "# avoid infinite loops in while loops with a time limit\n",
    "import time\n",
    "start_time = time.time()\n",
    "time_limit = 5  # seconds\n",
    "while True:\n",
    "    print(\"This loop will exit after a certain time limit.\")\n",
    "    if time.time() - start_time > time_limit:\n",
    "        break  # Exit the loop after reaching the time limit\n"
   ]
  },
  {
   "cell_type": "markdown",
   "id": "24af2fe5",
   "metadata": {},
   "source": [
    "## Functions"
   ]
  },
  {
   "cell_type": "markdown",
   "id": "956ede81",
   "metadata": {},
   "source": [
    "#### Anatomy"
   ]
  },
  {
   "cell_type": "code",
   "execution_count": 38,
   "id": "b3efee1d",
   "metadata": {},
   "outputs": [
    {
     "name": "stdout",
     "output_type": "stream",
     "text": [
      "Hello, Alice!\n",
      "Hello, Guest!\n",
      "Hello, Bob!\n",
      "6\n",
      "30\n",
      "name: Alice\n",
      "age: 30\n",
      "city: New York\n",
      "My name is Alice, I am 30 years old and I live in New York.\n",
      "My name is Bob, I am 25 years old and I live in Unknown.\n",
      "120\n",
      "1\n"
     ]
    }
   ],
   "source": [
    "# function example\n",
    "def greet(name):\n",
    "    \"\"\"Function to greet a person by name.\"\"\"\n",
    "    return f\"Hello, {name}!\"\n",
    "print(greet(\"Alice\"))  # Output: Hello, Alice!\n",
    "\n",
    "# function with default parameter example\n",
    "def greet(name=\"Guest\"):\n",
    "    \"\"\"Function to greet a person by name, with a default name.\"\"\"\n",
    "    return f\"Hello, {name}!\"\n",
    "print(greet())  # Output: Hello, Guest!\n",
    "print(greet(\"Bob\"))  # Output: Hello, Bob!\n",
    "\n",
    "# function with variable-length arguments example\n",
    "def sum_numbers(*args):\n",
    "    \"\"\"Function to sum a variable number of arguments.\"\"\"\n",
    "    return sum(args)\n",
    "print(sum_numbers(1, 2, 3))  # Output: 6\n",
    "print(sum_numbers(4, 5, 6, 7, 8))  # Output: 30\n",
    "\n",
    "# function with keyword arguments example\n",
    "def display_info(**kwargs):\n",
    "    \"\"\"Function to display information passed as keyword arguments.\"\"\"\n",
    "    for key, value in kwargs.items():\n",
    "        print(f\"{key}: {value}\")\n",
    "display_info(name=\"Alice\", age=30, city=\"New York\")\n",
    "\n",
    "# function with both positional and keyword arguments example\n",
    "def introduce(name, age, city=\"Unknown\"):\n",
    "    \"\"\"Function to introduce a person with name, age, and city.\"\"\"\n",
    "    return f\"My name is {name}, I am {age} years old and I live in {city}.\"\n",
    "print(introduce(\"Alice\", 30, city=\"New York\"))\n",
    "print(introduce(\"Bob\", 25))  # city will use the default value \"Unknown\"\n",
    "\n",
    "# recursive function example\n",
    "def factorial(n):\n",
    "    \"\"\"Function to calculate the factorial of a number recursively.\"\"\"\n",
    "    if n == 0 or n == 1:\n",
    "        return 1\n",
    "    else:\n",
    "        return n * factorial(n - 1)\n",
    "print(factorial(5))  # Output: 120\n",
    "print(factorial(0))  # Output: 1"
   ]
  },
  {
   "cell_type": "markdown",
   "id": "7332530a",
   "metadata": {},
   "source": [
    "#### Variables and scope"
   ]
  },
  {
   "cell_type": "code",
   "execution_count": 47,
   "id": "c208bc8c",
   "metadata": {},
   "outputs": [
    {
     "name": "stdout",
     "output_type": "stream",
     "text": [
      "I am a local variable\n",
      "I am a global variable\n",
      "I am a global variable\n",
      "I am an inner variable\n",
      "I am an outer variable\n",
      "2\n",
      "I have been modified by inner_function\n",
      "I have been modified by inner_function\n"
     ]
    }
   ],
   "source": [
    "# Variables and scope example\n",
    "global_var = \"I am a global variable\"\n",
    "def my_function():\n",
    "    local_var = \"I am a local variable\"\n",
    "    print(local_var)  # Accessing local variable\n",
    "    print(global_var)  # Accessing global variable\n",
    "my_function()\n",
    "print(global_var)  # Accessing global variable\n",
    "# print(local_var)  # This will raise an error because local_var is not accessible outside the function\n",
    "# local variable in nested function example\n",
    "def outer_function():\n",
    "    outer_var = \"I am an outer variable\"\n",
    "    def inner_function():\n",
    "        inner_var = \"I am an inner variable\"\n",
    "        print(inner_var)  # Accessing inner variable\n",
    "        print(outer_var)  # Accessing outer variable\n",
    "    inner_function()\n",
    "    # print(inner_var)  # This will raise an error because inner_var is not accessible outside inner_function\n",
    "outer_function()\n",
    "# modifying global variable inside a function example\n",
    "counter = 0\n",
    "def increment_counter():\n",
    "    global counter  # Declare counter as global to modify it\n",
    "    counter += 1\n",
    "increment_counter()\n",
    "increment_counter()\n",
    "print(counter)  # Output: 2\n",
    "# nonlocal variable in nested function example\n",
    "def outer_function_nonlocal():\n",
    "    outer_var = \"I am an outer variable\"\n",
    "    def inner_function_nonlocal():\n",
    "        nonlocal outer_var  # Declare outer_var as nonlocal to modify it\n",
    "        outer_var = \"I have been modified by inner_function\"\n",
    "        print(outer_var)  # Accessing modified outer variable\n",
    "    inner_function_nonlocal()\n",
    "    print(outer_var)  # Accessing modified outer variable\n",
    "outer_function_nonlocal()"
   ]
  },
  {
   "cell_type": "markdown",
   "id": "2abfa9d5",
   "metadata": {},
   "source": [
    "#### Functions as Variables"
   ]
  },
  {
   "cell_type": "code",
   "execution_count": 48,
   "id": "f437a37a",
   "metadata": {},
   "outputs": [
    {
     "name": "stdout",
     "output_type": "stream",
     "text": [
      "8\n",
      "Hello, Alice!\n",
      "Goodbye, Alice!\n"
     ]
    }
   ],
   "source": [
    "# function as variable example\n",
    "def add(a, b):\n",
    "    return a + b\n",
    "sum_function = add  # Assigning function to a variable\n",
    "result = sum_function(3, 5)  # Calling the function using the variable\n",
    "print(result)  # Output: 8\n",
    "\n",
    "# executing functions stored in a list\n",
    "def greet(name):\n",
    "    return f\"Hello, {name}!\"\n",
    "def farewell(name):\n",
    "    return f\"Goodbye, {name}!\"\n",
    "function_list = [greet, farewell]  # List of functions\n",
    "for func in function_list:\n",
    "    print(func(\"Alice\"))  # Calling each function in the list"
   ]
  },
  {
   "cell_type": "markdown",
   "id": "c8742c9b",
   "metadata": {},
   "source": [
    "#### Class and objects"
   ]
  },
  {
   "cell_type": "markdown",
   "id": "a0f2da15",
   "metadata": {},
   "source": [
    "#### Anatomy"
   ]
  },
  {
   "cell_type": "code",
   "execution_count": 37,
   "id": "e99317a4",
   "metadata": {},
   "outputs": [
    {
     "name": "stdout",
     "output_type": "stream",
     "text": [
      "My dog's name is Buddy and he is 3 years old.\n",
      "Buddy says Woof!\n",
      "My other dog's name is Max and he is 5 years old.\n",
      "Max says Woof!\n"
     ]
    }
   ],
   "source": [
    "# Class and object example\n",
    "class Dog:\n",
    "    \"\"\"A simple Dog class.\"\"\"\n",
    "    def __init__(self, name, age):\n",
    "        self.name = name  # Instance variable for the dog's name\n",
    "        self.age = age    # Instance variable for the dog's age\n",
    "    def bark(self):\n",
    "        \"\"\"Method for the dog to bark.\"\"\"\n",
    "        return f\"{self.name} says Woof!\" # it iherits the name variable from the instance\n",
    "\n",
    "# create an instance of the Dog class\n",
    "my_dog = Dog(\"Buddy\", 3)\n",
    "\n",
    "# access instance variables\n",
    "print(f\"My dog's name is {my_dog.name} and he is {my_dog.age} years old.\")\n",
    "\n",
    "# call the bark method\n",
    "print(my_dog.bark())  # Output: Buddy says Woof!\n",
    "\n",
    "# create another instance of the Dog class\n",
    "another_dog = Dog(\"Max\", 5)\n",
    "print(f\"My other dog's name is {another_dog.name} and he is {another_dog.age} years old.\")\n",
    "print(another_dog.bark())  # Output: Max says Woof!\n",
    "\n",
    "# --- IGNORE ---    "
   ]
  },
  {
   "cell_type": "code",
   "execution_count": null,
   "id": "98f5fdba",
   "metadata": {},
   "outputs": [],
   "source": []
  }
 ],
 "metadata": {
  "kernelspec": {
   "display_name": "etl",
   "language": "python",
   "name": "python3"
  },
  "language_info": {
   "codemirror_mode": {
    "name": "ipython",
    "version": 3
   },
   "file_extension": ".py",
   "mimetype": "text/x-python",
   "name": "python",
   "nbconvert_exporter": "python",
   "pygments_lexer": "ipython3",
   "version": "3.12.1"
  }
 },
 "nbformat": 4,
 "nbformat_minor": 5
}
